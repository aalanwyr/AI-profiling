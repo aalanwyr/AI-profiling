{
 "cells": [
  {
   "cell_type": "markdown",
   "id": "219f48a4",
   "metadata": {},
   "source": [
    "# TREx API Examples\n",
    "\n",
    "This notebook provides a set of TREx API examples."
   ]
  },
  {
   "cell_type": "code",
   "execution_count": 1,
   "id": "c16a4d6e",
   "metadata": {},
   "outputs": [],
   "source": [
    "import trex\n",
    "\n",
    "engine_name = \"../tests/inputs/mobilenet.qat.onnx.engine\"\n",
    "plan = trex.EnginePlan(f\"{engine_name}.graph.json\", f\"{engine_name}.profile.json\", f\"{engine_name}.metadata.json\")"
   ]
  },
  {
   "cell_type": "markdown",
   "id": "1e3de9cb",
   "metadata": {},
   "source": [
    "## List `k` slowest layers\n",
    "\n",
    "List the k-slowest layers:"
   ]
  },
  {
   "cell_type": "code",
   "execution_count": 2,
   "id": "0c601495",
   "metadata": {},
   "outputs": [
    {
     "name": "stdout",
     "output_type": "stream",
     "text": [
      "features.15.conv.2.weight + QuantizeLinear_722 + Conv_726 + Add_728: Convolution\n",
      "features.16.conv.2.weight + QuantizeLinear_771 + Conv_775 + Add_777: Convolution\n",
      "features.13.conv.2.weight + QuantizeLinear_625 + Conv_629 + Add_631: Convolution\n"
     ]
    }
   ],
   "source": [
    "top3 = plan.df.nlargest(3, 'latency.pct_time')\n",
    "for i in range(len(top3)):\n",
    "    layer = top3.iloc[i]\n",
    "    print(\"%s: %s\" % (layer[\"Name\"], layer[\"type\"]))"
   ]
  },
  {
   "cell_type": "markdown",
   "id": "bd16e032",
   "metadata": {},
   "source": [
    "Compute the latency of the top-3 slowest layers:"
   ]
  },
  {
   "cell_type": "code",
   "execution_count": 3,
   "id": "93d25555",
   "metadata": {},
   "outputs": [
    {
     "name": "stdout",
     "output_type": "stream",
     "text": [
      "top3 latency: 0.045236 ms (9.62%)\n"
     ]
    }
   ],
   "source": [
    "top3_latency = top3['latency.avg_time'].sum()\n",
    "top3_percent = top3['latency.pct_time'].sum()\n",
    "print(f\"top3 latency: {top3_latency:.6f} ms ({top3_percent:.2f}%)\")"
   ]
  },
  {
   "cell_type": "code",
   "execution_count": 4,
   "id": "206b0f1c",
   "metadata": {},
   "outputs": [
    {
     "name": "stdout",
     "output_type": "stream",
     "text": [
      "There are 53 convolutions\n",
      "0.00586459\n"
     ]
    }
   ],
   "source": [
    "ltype = \"Convolution\"\n",
    "convs = plan.df.query(f\"type == \\\"{ltype}\\\"\")\n",
    "print(f\"There are {len(convs)} convolutions\")\n",
    "print(convs['latency.avg_time'].median())"
   ]
  },
  {
   "cell_type": "code",
   "execution_count": 5,
   "id": "10a9c91f",
   "metadata": {},
   "outputs": [
    {
     "name": "stdout",
     "output_type": "stream",
     "text": [
      "There are 53 convolutions\n",
      "0.00586459\n"
     ]
    }
   ],
   "source": [
    "convs2 = plan.get_layers_by_type('Convolution')\n",
    "print(f\"There are {len(convs2)} convolutions\")\n",
    "print(convs['latency.avg_time'].median())"
   ]
  },
  {
   "cell_type": "markdown",
   "id": "ef4287a3",
   "metadata": {},
   "source": [
    "## Access layer activations\n",
    "\n",
    "There are several ways to access a layer's inputs and outputs"
   ]
  },
  {
   "cell_type": "code",
   "execution_count": 6,
   "id": "e6cff068",
   "metadata": {},
   "outputs": [
    {
     "name": "stdout",
     "output_type": "stream",
     "text": [
      "[{'Name': '317', 'Location': 'Device', 'Dimensions': [1, 3, 224, 224], 'Format/Datatype': 'Four wide channel vectorized row major Int8 format'}]\n"
     ]
    }
   ],
   "source": [
    "print(convs.iloc[0]['Inputs'])"
   ]
  },
  {
   "cell_type": "code",
   "execution_count": 7,
   "id": "216be540",
   "metadata": {},
   "outputs": [
    {
     "data": {
      "text/plain": [
       "'Int8 NC/4HW4'"
      ]
     },
     "execution_count": 7,
     "metadata": {},
     "output_type": "execute_result"
    }
   ],
   "source": [
    "clean_convs = trex.clean_df(convs2.copy(), inplace=True)\n",
    "clean_convs.iloc[0]['Inputs']"
   ]
  },
  {
   "cell_type": "markdown",
   "id": "e30298f8",
   "metadata": {},
   "source": [
    "As an `Activation` instance:"
   ]
  },
  {
   "cell_type": "code",
   "execution_count": 8,
   "id": "69b482df",
   "metadata": {},
   "outputs": [
    {
     "name": "stdout",
     "output_type": "stream",
     "text": [
      "317\n",
      "[1, 3, 224, 224]\n",
      "INT8\n",
      "Int8 NC/4HW4\n",
      "150528\n"
     ]
    }
   ],
   "source": [
    "inputs, outputs = trex.create_activations(convs.iloc[0])\n",
    "print(inputs[0].name)\n",
    "print(inputs[0].shape)\n",
    "print(inputs[0].precision)\n",
    "print(inputs[0].format)\n",
    "print(inputs[0].size_bytes)"
   ]
  },
  {
   "cell_type": "markdown",
   "id": "e73772b7",
   "metadata": {},
   "source": [
    "## Query and Grouping"
   ]
  },
  {
   "cell_type": "code",
   "execution_count": 9,
   "id": "8fbff2a2",
   "metadata": {},
   "outputs": [
    {
     "data": {
      "text/html": [
       "<div>\n",
       "<style scoped>\n",
       "    .dataframe tbody tr th:only-of-type {\n",
       "        vertical-align: middle;\n",
       "    }\n",
       "\n",
       "    .dataframe tbody tr th {\n",
       "        vertical-align: top;\n",
       "    }\n",
       "\n",
       "    .dataframe thead th {\n",
       "        text-align: right;\n",
       "    }\n",
       "</style>\n",
       "<table border=\"1\" class=\"dataframe\">\n",
       "  <thead>\n",
       "    <tr style=\"text-align: right;\">\n",
       "      <th></th>\n",
       "      <th>latency.avg_time</th>\n",
       "      <th>latency.pct_time</th>\n",
       "    </tr>\n",
       "    <tr>\n",
       "      <th>type</th>\n",
       "      <th></th>\n",
       "      <th></th>\n",
       "    </tr>\n",
       "  </thead>\n",
       "  <tbody>\n",
       "    <tr>\n",
       "      <th>Convolution</th>\n",
       "      <td>0.383324</td>\n",
       "      <td>81.491013</td>\n",
       "    </tr>\n",
       "    <tr>\n",
       "      <th>Pooling</th>\n",
       "      <td>0.004525</td>\n",
       "      <td>0.962048</td>\n",
       "    </tr>\n",
       "    <tr>\n",
       "      <th>Reformat</th>\n",
       "      <td>0.082539</td>\n",
       "      <td>17.546964</td>\n",
       "    </tr>\n",
       "  </tbody>\n",
       "</table>\n",
       "</div>"
      ],
      "text/plain": [
       "             latency.avg_time  latency.pct_time\n",
       "type                                           \n",
       "Convolution          0.383324         81.491013\n",
       "Pooling              0.004525          0.962048\n",
       "Reformat             0.082539         17.546964"
      ]
     },
     "execution_count": 9,
     "metadata": {},
     "output_type": "execute_result"
    }
   ],
   "source": [
    "# Group by type, and perform a sum reduction on the latency\n",
    "plan.df.groupby([\"type\"]).sum()[[\"latency.avg_time\", \"latency.pct_time\"]]"
   ]
  },
  {
   "cell_type": "code",
   "execution_count": 10,
   "id": "89985b3a",
   "metadata": {},
   "outputs": [
    {
     "data": {
      "text/html": [
       "<div>\n",
       "<style scoped>\n",
       "    .dataframe tbody tr th:only-of-type {\n",
       "        vertical-align: middle;\n",
       "    }\n",
       "\n",
       "    .dataframe tbody tr th {\n",
       "        vertical-align: top;\n",
       "    }\n",
       "\n",
       "    .dataframe thead th {\n",
       "        text-align: right;\n",
       "    }\n",
       "</style>\n",
       "<table border=\"1\" class=\"dataframe\">\n",
       "  <thead>\n",
       "    <tr style=\"text-align: right;\">\n",
       "      <th></th>\n",
       "      <th>type</th>\n",
       "      <th>latency.avg_time</th>\n",
       "    </tr>\n",
       "  </thead>\n",
       "  <tbody>\n",
       "    <tr>\n",
       "      <th>0</th>\n",
       "      <td>Convolution</td>\n",
       "      <td>0.383324</td>\n",
       "    </tr>\n",
       "    <tr>\n",
       "      <th>1</th>\n",
       "      <td>Pooling</td>\n",
       "      <td>0.004525</td>\n",
       "    </tr>\n",
       "    <tr>\n",
       "      <th>2</th>\n",
       "      <td>Reformat</td>\n",
       "      <td>0.082539</td>\n",
       "    </tr>\n",
       "  </tbody>\n",
       "</table>\n",
       "</div>"
      ],
      "text/plain": [
       "          type  latency.avg_time\n",
       "0  Convolution          0.383324\n",
       "1      Pooling          0.004525\n",
       "2     Reformat          0.082539"
      ]
     },
     "execution_count": 10,
     "metadata": {},
     "output_type": "execute_result"
    }
   ],
   "source": [
    "# trex provides another way to do the same thing\n",
    "trex.group_sum_attr(plan.df,\"type\", \"latency.avg_time\")"
   ]
  },
  {
   "cell_type": "code",
   "execution_count": 11,
   "id": "930d109f",
   "metadata": {},
   "outputs": [
    {
     "data": {
      "text/html": [
       "<div>\n",
       "<style scoped>\n",
       "    .dataframe tbody tr th:only-of-type {\n",
       "        vertical-align: middle;\n",
       "    }\n",
       "\n",
       "    .dataframe tbody tr th {\n",
       "        vertical-align: top;\n",
       "    }\n",
       "\n",
       "    .dataframe thead th {\n",
       "        text-align: right;\n",
       "    }\n",
       "</style>\n",
       "<table border=\"1\" class=\"dataframe\">\n",
       "  <thead>\n",
       "    <tr style=\"text-align: right;\">\n",
       "      <th></th>\n",
       "      <th>type</th>\n",
       "      <th>count</th>\n",
       "    </tr>\n",
       "  </thead>\n",
       "  <tbody>\n",
       "    <tr>\n",
       "      <th>0</th>\n",
       "      <td>Convolution</td>\n",
       "      <td>53</td>\n",
       "    </tr>\n",
       "    <tr>\n",
       "      <th>1</th>\n",
       "      <td>Pooling</td>\n",
       "      <td>1</td>\n",
       "    </tr>\n",
       "    <tr>\n",
       "      <th>2</th>\n",
       "      <td>Reformat</td>\n",
       "      <td>18</td>\n",
       "    </tr>\n",
       "  </tbody>\n",
       "</table>\n",
       "</div>"
      ],
      "text/plain": [
       "          type  count\n",
       "0  Convolution     53\n",
       "1      Pooling      1\n",
       "2     Reformat     18"
      ]
     },
     "execution_count": 11,
     "metadata": {},
     "output_type": "execute_result"
    }
   ],
   "source": [
    "# Another trex convenience wrapper: group by 'type' and count the number of members in each group\n",
    "trex.group_count(plan.df, \"type\")"
   ]
  },
  {
   "cell_type": "code",
   "execution_count": 12,
   "id": "dfd18a27",
   "metadata": {},
   "outputs": [
    {
     "name": "stdout",
     "output_type": "stream",
     "text": [
      "  attr.kernel  count\n",
      "0      (1, 1)     35\n",
      "1      (3, 3)     18\n"
     ]
    },
    {
     "data": {
      "text/html": [
       "\n",
       "        <iframe\n",
       "            width=\"100%\"\n",
       "            height=\"475\"\n",
       "            src=\"http://alanwu-NUC11PAHi5:40000/dtale/iframe/1\"\n",
       "            frameborder=\"0\"\n",
       "            allowfullscreen\n",
       "            \n",
       "        ></iframe>\n",
       "        "
      ],
      "text/plain": [
       "<IPython.lib.display.IFrame at 0x7fc7460e9f40>"
      ]
     },
     "metadata": {},
     "output_type": "display_data"
    },
    {
     "data": {
      "text/plain": []
     },
     "metadata": {},
     "output_type": "display_data"
    }
   ],
   "source": [
    "convs_1x1 = clean_convs[clean_convs[\"attr.kernel\"] == (1,1)]\n",
    "convs_3x3 = clean_convs[clean_convs[\"attr.kernel\"] == (3,3)]\n",
    "\n",
    "# Group by convolution kernel shape, and count\n",
    "print(trex.group_count(clean_convs, \"attr.kernel\"))\n",
    "\n",
    "# Display the dataframe of all convolutions with kernel shape = (1, 1)\n",
    "trex.display_df(convs_1x1)"
   ]
  },
  {
   "cell_type": "code",
   "execution_count": 13,
   "id": "494e9968",
   "metadata": {},
   "outputs": [
    {
     "name": "stderr",
     "output_type": "stream",
     "text": [
      "Address already in use\n",
      "Port 40000 is in use by another program. Either identify and stop that program, or start the server with a different port.\n"
     ]
    },
    {
     "data": {
      "text/html": [
       "\n",
       "        <iframe\n",
       "            width=\"100%\"\n",
       "            height=\"475\"\n",
       "            src=\"http://alanwu-NUC11PAHi5:40000/dtale/iframe/2\"\n",
       "            frameborder=\"0\"\n",
       "            allowfullscreen\n",
       "            \n",
       "        ></iframe>\n",
       "        "
      ],
      "text/plain": [
       "<IPython.lib.display.IFrame at 0x7fc7445a4910>"
      ]
     },
     "metadata": {},
     "output_type": "display_data"
    },
    {
     "data": {
      "text/plain": []
     },
     "metadata": {},
     "output_type": "display_data"
    },
    {
     "name": "stderr",
     "output_type": "stream",
     "text": [
      "2023-04-18 15:32:02,269 - INFO     - Executing shutdown due to inactivity...\n",
      "2023-04-18 15:32:02,935 - INFO     - Executing shutdown due to inactivity...\n"
     ]
    }
   ],
   "source": [
    "# Display the dataframe of all INT8 convolutions with \n",
    "convs_1x1_fp32 = convs_1x1[convs_1x1[\"Outputs\"].str.startswith(\"FP32\")]\n",
    "trex.display_df(convs_1x1_fp32)"
   ]
  },
  {
   "cell_type": "code",
   "execution_count": null,
   "id": "6669a905",
   "metadata": {},
   "outputs": [],
   "source": []
  }
 ],
 "metadata": {
  "kernelspec": {
   "display_name": "Python 3 (ipykernel)",
   "language": "python",
   "name": "python3"
  },
  "language_info": {
   "codemirror_mode": {
    "name": "ipython",
    "version": 3
   },
   "file_extension": ".py",
   "mimetype": "text/x-python",
   "name": "python",
   "nbconvert_exporter": "python",
   "pygments_lexer": "ipython3",
   "version": "3.8.10"
  }
 },
 "nbformat": 4,
 "nbformat_minor": 5
}
